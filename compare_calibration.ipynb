{
 "cells": [
  {
   "cell_type": "code",
   "execution_count": null,
   "metadata": {},
   "outputs": [],
   "source": [
    "# Import necessary libraries\n",
    "import numpy as np\n",
    "import matplotlib.pyplot as plt\n",
    "import json\n",
    "from mpl_toolkits.mplot3d import Axes3D\n",
    "from src.util import readJSON"
   ]
  },
  {
   "cell_type": "code",
   "execution_count": null,
   "metadata": {},
   "outputs": [],
   "source": [
    "# Load the matrices from JSON files\n",
    "file_path1 = 'calib/tcp_T_camera.json'  # This file is the one you provided\n",
    "file_path2 = 'calib/tcp_T_camera.json'  # Replace with the path to your second JSON file\n",
    "matrix1 = readJSON(file_path1)\n",
    "matrix2 = readJSON(file_path2)\n",
    "\n",
    "matrix1, matrix2"
   ]
  },
  {
   "cell_type": "code",
   "execution_count": null,
   "metadata": {},
   "outputs": [],
   "source": [
    "# Calculate difference in translations\n",
    "translation1 = matrix1[:3, 3]\n",
    "translation2 = matrix2[:3, 3]\n",
    "translation_diff = np.abs(translation1 - translation2)\n",
    "\n",
    "# Calculate Cartesian distance\n",
    "cartesian_distance = np.linalg.norm(translation1 - translation2)\n",
    "\n",
    "# Rotation differences (simple subtraction here, consider other methods for specific angle differences)\n",
    "rotation_diff = np.abs(matrix1[:3, :3] - matrix2[:3, :3])\n",
    "\n",
    "# Print out the differences\n",
    "print(f\"Translation Differences (x, y, z): {translation_diff}\")\n",
    "print(f\"Cartesian Distance: {cartesian_distance}\")\n",
    "print(f\"Rotation Matrix Differences:\\n{rotation_diff}\")"
   ]
  },
  {
   "cell_type": "code",
   "execution_count": null,
   "metadata": {},
   "outputs": [],
   "source": [
    "# Visualization function\n",
    "def draw_frame(matrix, ax, length=1.0):\n",
    "    origin = matrix[:3, 3]\n",
    "    ax.quiver(origin[0], origin[1], origin[2], \n",
    "              matrix[0, 0], matrix[1, 0], matrix[2, 0], length=length, color='r')\n",
    "    ax.quiver(origin[0], origin[1], origin[2], \n",
    "              matrix[0, 1], matrix[1, 1], matrix[2, 1], length=length, color='g')\n",
    "    ax.quiver(origin[0], origin[1], origin[2], \n",
    "              matrix[0, 2], matrix[1, 2], matrix[2, 2], length=length, color='b')\n",
    "\n",
    "# Plot the coordinate frames\n",
    "fig = plt.figure()\n",
    "ax = fig.add_subplot(111, projection='3d')\n",
    "draw_frame(matrix1, ax, 2)\n",
    "draw_frame(matrix2, ax, 2)\n",
    "\n",
    "ax.set_xlabel('X')\n",
    "ax.set_ylabel('Y')\n",
    "ax.set_zlabel('Z')\n",
    "plt.show()"
   ]
  }
 ],
 "metadata": {
  "language_info": {
   "name": "python"
  }
 },
 "nbformat": 4,
 "nbformat_minor": 2
}
