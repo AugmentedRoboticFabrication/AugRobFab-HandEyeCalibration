{
 "cells": [
  {
   "cell_type": "code",
   "execution_count": null,
   "metadata": {},
   "outputs": [],
   "source": [
    "# Import necessary libraries\n",
    "import os\n",
    "import numpy as np\n",
    "import matplotlib.pyplot as plt\n",
    "from mpl_toolkits.mplot3d import Axes3D\n",
    "from scipy.spatial.transform import Rotation as R\n",
    "from src.util import readJSON\n",
    "\n",
    "os.chdir(globals()['_dh'][0])"
   ]
  },
  {
   "cell_type": "code",
   "execution_count": null,
   "metadata": {},
   "outputs": [],
   "source": [
    "# Load the matrices from JSON files\n",
    "# file_path1 = 'calib/tcp_T_camera_feb05.json'\n",
    "file_path1 = 'calib/tcp_T_camera_march20_wfov.json'\n",
    "file_path2 = 'calib/tcp_T_camera_march20_nfov.json'\n",
    "\n",
    "matrix1 = np.asarray(readJSON(file_path1)['extrinsic'])\n",
    "matrix2 = np.asarray(readJSON(file_path2)['extrinsic'])"
   ]
  },
  {
   "cell_type": "code",
   "execution_count": null,
   "metadata": {},
   "outputs": [],
   "source": [
    "# Calculate difference in translations\n",
    "translation1 = matrix1[:3, 3]\n",
    "translation2 = matrix2[:3, 3]\n",
    "translation_diff = np.abs(translation1 - translation2)\n",
    "\n",
    "# Calculate Cartesian distance\n",
    "cartesian_distance = np.linalg.norm(translation1 - translation2)\n",
    "\n",
    "# Calculate difference in Euler angles (rx, ry, rz in degrees)\n",
    "rotation_matrix1 = matrix1[:3, :3]\n",
    "rotation_matrix2 = matrix2[:3, :3]\n",
    "euler1 = R.from_matrix(rotation_matrix1).as_euler('xyz', degrees=True)\n",
    "euler2 = R.from_matrix(rotation_matrix2).as_euler('xyz', degrees=True)\n",
    "euler_angle_diff = np.abs(euler1 - euler2)\n",
    "\n",
    "# Print out the differences\n",
    "print(f\"Translation Differences (x, y, z): {translation_diff}\")\n",
    "print(f\"Cartesian Distance: {cartesian_distance}\")\n",
    "print(f\"Rotation Angle Differences (rx, ry, rz in degrees): {euler_angle_diff}\")"
   ]
  },
  {
   "cell_type": "code",
   "execution_count": null,
   "metadata": {},
   "outputs": [],
   "source": [
    "# Visualization function\n",
    "def draw_frame(matrix, ax, length=1.0):\n",
    "    origin = matrix[:3, 3]\n",
    "    ax.quiver(origin[0], origin[1], origin[2], \n",
    "              matrix[0, 0], matrix[1, 0], matrix[2, 0], length=length, color='r')\n",
    "    ax.quiver(origin[0], origin[1], origin[2], \n",
    "              matrix[0, 1], matrix[1, 1], matrix[2, 1], length=length, color='g')\n",
    "    ax.quiver(origin[0], origin[1], origin[2], \n",
    "              matrix[0, 2], matrix[1, 2], matrix[2, 2], length=length, color='b')\n",
    "\n",
    "# Plot the coordinate frames\n",
    "fig = plt.figure()\n",
    "ax = fig.add_subplot(111, projection='3d')\n",
    "draw_frame(matrix1, ax, 2)\n",
    "draw_frame(matrix2, ax, 2)\n",
    "\n",
    "ax.set_xlabel('X')\n",
    "ax.set_ylabel('Y')\n",
    "ax.set_zlabel('Z')\n",
    "plt.show()"
   ]
  }
 ],
 "metadata": {
  "kernelspec": {
   "display_name": "augrobfab",
   "language": "python",
   "name": "python3"
  },
  "language_info": {
   "name": "python",
   "version": "3.9.18"
  }
 },
 "nbformat": 4,
 "nbformat_minor": 2
}
