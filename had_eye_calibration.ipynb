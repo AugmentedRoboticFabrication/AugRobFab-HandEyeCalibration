{
 "cells": [
  {
   "cell_type": "code",
   "execution_count": null,
   "metadata": {},
   "outputs": [],
   "source": [
    "import os\n",
    "from src.util import readJSON, import_intrinsic_calib\n",
    "\n",
    "os.chdir(globals()['_dh'][0])"
   ]
  },
  {
   "cell_type": "code",
   "execution_count": null,
   "metadata": {},
   "outputs": [],
   "source": [
    "dir = \"test_mkv\"\n",
    "out_dir = \"calib\"\n",
    "\n",
    "debug = True\n",
    "\n",
    "parse_MKV = False\n",
    "parse_TROB = True\n",
    "calibrate = True"
   ]
  },
  {
   "cell_type": "code",
   "execution_count": null,
   "metadata": {},
   "outputs": [],
   "source": [
    "if parse_MKV:\n",
    "    from src.mkv_parser import AzureKinectMKVParser\n",
    "\n",
    "    parser = AzureKinectMKVParser(\n",
    "        dir=dir,\n",
    "        )\n",
    "    parser.export_frames()\n",
    "    parser.export_calibration()"
   ]
  },
  {
   "cell_type": "code",
   "execution_count": null,
   "metadata": {},
   "outputs": [],
   "source": [
    "intrinsic_matrix, distortion_coefficients = import_intrinsic_calib(dir=dir)\n",
    "\n",
    "print(\"-------------------\")\n",
    "print(\"Intrinsic Matrix:\")\n",
    "print(intrinsic_matrix)\n",
    "print(\"-------------------\")"
   ]
  },
  {
   "cell_type": "code",
   "execution_count": null,
   "metadata": {},
   "outputs": [],
   "source": [
    "if parse_TROB:\n",
    "    from src.abb_parser import TROBParser\n",
    "\n",
    "    mod_parser = TROBParser(\n",
    "        dir=dir,\n",
    "        parsing_method='robtarget') # or 'MoveL'\n",
    "    mod_parser.base_T_tcp()\n",
    "else:\n",
    "    file_path = os.path.join(dir, 'base_T_tcp.json')\n",
    "    data = readJSON(file_path)\n",
    "\n",
    "    pos = data.get('pos')\n",
    "    rotvec = data.get('rotvec')"
   ]
  },
  {
   "cell_type": "code",
   "execution_count": null,
   "metadata": {},
   "outputs": [],
   "source": [
    "if calibrate:\n",
    "    from src.camera_calibration import CameraCalibration\n",
    "\n",
    "    calib = CameraCalibration(\n",
    "        dir = dir,\n",
    "        folder_name='ir',\n",
    "        intrinsic_matrix=intrinsic_matrix,\n",
    "        distortion_coefficients=distortion_coefficients,\n",
    "        checkerboard_shape=(24,17),\n",
    "        checkerboard_size=30.0,\n",
    "        save_dir = out_dir,\n",
    "        debug=debug,\n",
    "        )\n",
    "    calib.calibrate()"
   ]
  }
 ],
 "metadata": {
  "interpreter": {
   "hash": "affac053bf83244b8029a0c18ce67c977e58ec37167172768ee8e4194768d7aa"
  },
  "kernelspec": {
   "display_name": "Python 3.8.12 64-bit ('azure': conda)",
   "name": "python3"
  },
  "language_info": {
   "codemirror_mode": {
    "name": "ipython",
    "version": 3
   },
   "file_extension": ".py",
   "mimetype": "text/x-python",
   "name": "python",
   "nbconvert_exporter": "python",
   "pygments_lexer": "ipython3",
   "version": "3.8.13"
  },
  "orig_nbformat": 4
 },
 "nbformat": 4,
 "nbformat_minor": 2
}
