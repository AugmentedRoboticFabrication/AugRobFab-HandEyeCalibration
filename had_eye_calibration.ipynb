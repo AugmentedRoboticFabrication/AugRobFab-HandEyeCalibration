{
 "cells": [
  {
   "cell_type": "code",
   "execution_count": 1,
   "metadata": {},
   "outputs": [
    {
     "ename": "RuntimeError",
     "evalue": "module compiled against API version 0x10 but this version of numpy is 0xf . Check the section C-API incompatibility at the Troubleshooting ImportError section at https://numpy.org/devdocs/user/troubleshooting-importerror.html#c-api-incompatibility for indications on how to solve this problem .",
     "output_type": "error",
     "traceback": [
      "\u001b[1;31m---------------------------------------------------------------------------\u001b[0m",
      "\u001b[1;31mRuntimeError\u001b[0m                              Traceback (most recent call last)",
      "\u001b[1;31mRuntimeError\u001b[0m: module compiled against API version 0x10 but this version of numpy is 0xf . Check the section C-API incompatibility at the Troubleshooting ImportError section at https://numpy.org/devdocs/user/troubleshooting-importerror.html#c-api-incompatibility for indications on how to solve this problem ."
     ]
    },
    {
     "ename": "RuntimeError",
     "evalue": "module compiled against API version 0x10 but this version of numpy is 0xf . Check the section C-API incompatibility at the Troubleshooting ImportError section at https://numpy.org/devdocs/user/troubleshooting-importerror.html#c-api-incompatibility for indications on how to solve this problem .",
     "output_type": "error",
     "traceback": [
      "\u001b[1;31m---------------------------------------------------------------------------\u001b[0m",
      "\u001b[1;31mImportError\u001b[0m                               Traceback (most recent call last)",
      "\u001b[1;32mc:\\Users\\Ozguc\\anaconda3\\envs\\azureCUDA\\lib\\site-packages\\pyk4a\\module.py\u001b[0m in \u001b[0;36m<module>\u001b[1;34m\u001b[0m\n\u001b[0;32m      4\u001b[0m \u001b[1;32mtry\u001b[0m\u001b[1;33m:\u001b[0m\u001b[1;33m\u001b[0m\u001b[1;33m\u001b[0m\u001b[0m\n\u001b[1;32m----> 5\u001b[1;33m     \u001b[1;32mimport\u001b[0m \u001b[0mk4a_module\u001b[0m  \u001b[1;31m# type: ignore  # noqa: F401\u001b[0m\u001b[1;33m\u001b[0m\u001b[1;33m\u001b[0m\u001b[0m\n\u001b[0m\u001b[0;32m      6\u001b[0m \u001b[1;32mexcept\u001b[0m \u001b[0mBaseException\u001b[0m \u001b[1;32mas\u001b[0m \u001b[0me\u001b[0m\u001b[1;33m:\u001b[0m\u001b[1;33m\u001b[0m\u001b[1;33m\u001b[0m\u001b[0m\n",
      "\u001b[1;31mImportError\u001b[0m: numpy.core.multiarray failed to import",
      "\nDuring handling of the above exception, another exception occurred:\n",
      "\u001b[1;31mRuntimeError\u001b[0m                              Traceback (most recent call last)",
      "\u001b[1;31mRuntimeError\u001b[0m: module compiled against API version 0x10 but this version of numpy is 0xf . Check the section C-API incompatibility at the Troubleshooting ImportError section at https://numpy.org/devdocs/user/troubleshooting-importerror.html#c-api-incompatibility for indications on how to solve this problem ."
     ]
    },
    {
     "ename": "ImportError",
     "evalue": "Cannot import k4a_module. DLL directory added was C:\\Program Files\\Azure Kinect SDK v1.2.0\\sdk\\windows-desktop\\AMD64\\release\\bin. You can provide a different path containing `k4a.dll`using the environment variable `K4A_DLL_DIR`. Also make sure pyk4a was properly built.",
     "output_type": "error",
     "traceback": [
      "\u001b[1;31m---------------------------------------------------------------------------\u001b[0m",
      "\u001b[1;31mImportError\u001b[0m                               Traceback (most recent call last)",
      "\u001b[1;32mc:\\Users\\Ozguc\\anaconda3\\envs\\azureCUDA\\lib\\site-packages\\pyk4a\\module.py\u001b[0m in \u001b[0;36m<module>\u001b[1;34m\u001b[0m\n\u001b[0;32m      4\u001b[0m \u001b[1;32mtry\u001b[0m\u001b[1;33m:\u001b[0m\u001b[1;33m\u001b[0m\u001b[1;33m\u001b[0m\u001b[0m\n\u001b[1;32m----> 5\u001b[1;33m     \u001b[1;32mimport\u001b[0m \u001b[0mk4a_module\u001b[0m  \u001b[1;31m# type: ignore  # noqa: F401\u001b[0m\u001b[1;33m\u001b[0m\u001b[1;33m\u001b[0m\u001b[0m\n\u001b[0m\u001b[0;32m      6\u001b[0m \u001b[1;32mexcept\u001b[0m \u001b[0mBaseException\u001b[0m \u001b[1;32mas\u001b[0m \u001b[0me\u001b[0m\u001b[1;33m:\u001b[0m\u001b[1;33m\u001b[0m\u001b[1;33m\u001b[0m\u001b[0m\n",
      "\u001b[1;31mImportError\u001b[0m: numpy.core.multiarray failed to import",
      "\nThe above exception was the direct cause of the following exception:\n",
      "\u001b[1;31mImportError\u001b[0m                               Traceback (most recent call last)",
      "\u001b[1;32m~\\AppData\\Local\\Temp/ipykernel_40804/562835942.py\u001b[0m in \u001b[0;36m<module>\u001b[1;34m\u001b[0m\n\u001b[0;32m      1\u001b[0m \u001b[1;32mimport\u001b[0m \u001b[0mos\u001b[0m\u001b[1;33m,\u001b[0m \u001b[0mcv2\u001b[0m\u001b[1;33m,\u001b[0m \u001b[0mcopy\u001b[0m\u001b[1;33m\u001b[0m\u001b[1;33m\u001b[0m\u001b[0m\n\u001b[0;32m      2\u001b[0m \u001b[1;32mimport\u001b[0m \u001b[0mnumpy\u001b[0m \u001b[1;32mas\u001b[0m \u001b[0mnp\u001b[0m\u001b[1;33m\u001b[0m\u001b[1;33m\u001b[0m\u001b[0m\n\u001b[1;32m----> 3\u001b[1;33m \u001b[1;32mfrom\u001b[0m \u001b[0msrc\u001b[0m\u001b[1;33m.\u001b[0m\u001b[0mutil\u001b[0m \u001b[1;32mimport\u001b[0m \u001b[0mreadJSON\u001b[0m\u001b[1;33m,\u001b[0m \u001b[0mparseMKV\u001b[0m\u001b[1;33m,\u001b[0m \u001b[0mtarget2cam_color\u001b[0m\u001b[1;33m,\u001b[0m \u001b[0mcomposeH\u001b[0m\u001b[1;33m,\u001b[0m \u001b[0mimport_intrinsic_calib\u001b[0m\u001b[1;33m,\u001b[0m \u001b[0mexport_intrinsic_calib\u001b[0m\u001b[1;33m\u001b[0m\u001b[1;33m\u001b[0m\u001b[0m\n\u001b[0m\u001b[0;32m      4\u001b[0m \u001b[1;32mfrom\u001b[0m \u001b[0mvisualizer\u001b[0m \u001b[1;32mimport\u001b[0m \u001b[0mCameraPoseVisualizer\u001b[0m\u001b[1;33m\u001b[0m\u001b[1;33m\u001b[0m\u001b[0m\n\u001b[0;32m      5\u001b[0m \u001b[1;32mfrom\u001b[0m \u001b[0mscipy\u001b[0m\u001b[1;33m.\u001b[0m\u001b[0mspatial\u001b[0m\u001b[1;33m.\u001b[0m\u001b[0mtransform\u001b[0m \u001b[1;32mimport\u001b[0m \u001b[0mRotation\u001b[0m\u001b[1;33m\u001b[0m\u001b[1;33m\u001b[0m\u001b[0m\n",
      "\u001b[1;32md:\\GitHub\\AugRobFab-HandEyeCalibration\\src\\util.py\u001b[0m in \u001b[0;36m<module>\u001b[1;34m\u001b[0m\n\u001b[0;32m      4\u001b[0m \u001b[1;32mimport\u001b[0m \u001b[0mnumpy\u001b[0m \u001b[1;32mas\u001b[0m \u001b[0mnp\u001b[0m\u001b[1;33m\u001b[0m\u001b[1;33m\u001b[0m\u001b[0m\n\u001b[0;32m      5\u001b[0m \u001b[1;32mimport\u001b[0m \u001b[0mos\u001b[0m\u001b[1;33m,\u001b[0m \u001b[0mglob\u001b[0m\u001b[1;33m,\u001b[0m \u001b[0mre\u001b[0m\u001b[1;33m\u001b[0m\u001b[1;33m\u001b[0m\u001b[0m\n\u001b[1;32m----> 6\u001b[1;33m \u001b[1;32mimport\u001b[0m \u001b[0mpyk4a\u001b[0m\u001b[1;33m,\u001b[0m \u001b[0mcv2\u001b[0m\u001b[1;33m,\u001b[0m \u001b[0mjson\u001b[0m\u001b[1;33m\u001b[0m\u001b[1;33m\u001b[0m\u001b[0m\n\u001b[0m\u001b[0;32m      7\u001b[0m \u001b[1;33m\u001b[0m\u001b[0m\n\u001b[0;32m      8\u001b[0m \u001b[1;32mfrom\u001b[0m \u001b[0mpyk4a\u001b[0m \u001b[1;32mimport\u001b[0m \u001b[0mConfig\u001b[0m\u001b[1;33m,\u001b[0m \u001b[0mPyK4A\u001b[0m\u001b[1;33m,\u001b[0m \u001b[0mPyK4APlayback\u001b[0m\u001b[1;33m\u001b[0m\u001b[1;33m\u001b[0m\u001b[0m\n",
      "\u001b[1;32mc:\\Users\\Ozguc\\anaconda3\\envs\\azureCUDA\\lib\\site-packages\\pyk4a\\__init__.py\u001b[0m in \u001b[0;36m<module>\u001b[1;34m\u001b[0m\n\u001b[1;32m----> 1\u001b[1;33m \u001b[1;32mfrom\u001b[0m \u001b[1;33m.\u001b[0m\u001b[0mcalibration\u001b[0m \u001b[1;32mimport\u001b[0m \u001b[0mCalibration\u001b[0m\u001b[1;33m,\u001b[0m \u001b[0mCalibrationType\u001b[0m\u001b[1;33m\u001b[0m\u001b[1;33m\u001b[0m\u001b[0m\n\u001b[0m\u001b[0;32m      2\u001b[0m \u001b[1;32mfrom\u001b[0m \u001b[1;33m.\u001b[0m\u001b[0mcapture\u001b[0m \u001b[1;32mimport\u001b[0m \u001b[0mPyK4ACapture\u001b[0m\u001b[1;33m\u001b[0m\u001b[1;33m\u001b[0m\u001b[0m\n\u001b[0;32m      3\u001b[0m from .config import (\n\u001b[0;32m      4\u001b[0m     \u001b[0mFPS\u001b[0m\u001b[1;33m,\u001b[0m\u001b[1;33m\u001b[0m\u001b[1;33m\u001b[0m\u001b[0m\n\u001b[0;32m      5\u001b[0m     \u001b[0mColorControlCommand\u001b[0m\u001b[1;33m,\u001b[0m\u001b[1;33m\u001b[0m\u001b[1;33m\u001b[0m\u001b[0m\n",
      "\u001b[1;32mc:\\Users\\Ozguc\\anaconda3\\envs\\azureCUDA\\lib\\site-packages\\pyk4a\\calibration.py\u001b[0m in \u001b[0;36m<module>\u001b[1;34m\u001b[0m\n\u001b[0;32m      6\u001b[0m \u001b[1;32mfrom\u001b[0m \u001b[1;33m.\u001b[0m\u001b[0mconfig\u001b[0m \u001b[1;32mimport\u001b[0m \u001b[0mColorResolution\u001b[0m\u001b[1;33m,\u001b[0m \u001b[0mDepthMode\u001b[0m\u001b[1;33m\u001b[0m\u001b[1;33m\u001b[0m\u001b[0m\n\u001b[0;32m      7\u001b[0m \u001b[1;32mfrom\u001b[0m \u001b[1;33m.\u001b[0m\u001b[0merrors\u001b[0m \u001b[1;32mimport\u001b[0m \u001b[0mK4AException\u001b[0m\u001b[1;33m,\u001b[0m \u001b[0m_verify_error\u001b[0m\u001b[1;33m\u001b[0m\u001b[1;33m\u001b[0m\u001b[0m\n\u001b[1;32m----> 8\u001b[1;33m \u001b[1;32mfrom\u001b[0m \u001b[1;33m.\u001b[0m\u001b[0mmodule\u001b[0m \u001b[1;32mimport\u001b[0m \u001b[0mk4a_module\u001b[0m\u001b[1;33m\u001b[0m\u001b[1;33m\u001b[0m\u001b[0m\n\u001b[0m\u001b[0;32m      9\u001b[0m \u001b[1;33m\u001b[0m\u001b[0m\n\u001b[0;32m     10\u001b[0m \u001b[1;33m\u001b[0m\u001b[0m\n",
      "\u001b[1;32mc:\\Users\\Ozguc\\anaconda3\\envs\\azureCUDA\\lib\\site-packages\\pyk4a\\module.py\u001b[0m in \u001b[0;36m<module>\u001b[1;34m\u001b[0m\n\u001b[0;32m     12\u001b[0m             \u001b[1;32mimport\u001b[0m \u001b[0mk4a_module\u001b[0m  \u001b[1;31m# type: ignore  # noqa: F401\u001b[0m\u001b[1;33m\u001b[0m\u001b[1;33m\u001b[0m\u001b[0m\n\u001b[0;32m     13\u001b[0m         \u001b[1;32mexcept\u001b[0m \u001b[0mBaseException\u001b[0m\u001b[1;33m:\u001b[0m\u001b[1;33m\u001b[0m\u001b[1;33m\u001b[0m\u001b[0m\n\u001b[1;32m---> 14\u001b[1;33m             raise ImportError(\n\u001b[0m\u001b[0;32m     15\u001b[0m                 (\n\u001b[0;32m     16\u001b[0m                     \u001b[1;34m\"Cannot import k4a_module. \"\u001b[0m\u001b[1;33m\u001b[0m\u001b[1;33m\u001b[0m\u001b[0m\n",
      "\u001b[1;31mImportError\u001b[0m: Cannot import k4a_module. DLL directory added was C:\\Program Files\\Azure Kinect SDK v1.2.0\\sdk\\windows-desktop\\AMD64\\release\\bin. You can provide a different path containing `k4a.dll`using the environment variable `K4A_DLL_DIR`. Also make sure pyk4a was properly built."
     ]
    }
   ],
   "source": [
    "import os, cv2, copy\n",
    "import numpy as np\n",
    "from src.util import readJSON, parseMKV, target2cam_color, composeH, import_intrinsic_calib, export_intrinsic_calib\n",
    "from visualizer import CameraPoseVisualizer\n",
    "from scipy.spatial.transform import Rotation\n",
    "\n",
    "os.chdir(globals()['_dh'][0])"
   ]
  },
  {
   "cell_type": "code",
   "execution_count": null,
   "metadata": {},
   "outputs": [],
   "source": [
    "dir = \"test_mkv\"\n",
    "\n",
    "out_dir = \"calib\"\n",
    "\n",
    "debug = True\n",
    "\n",
    "exportFrames = False\n",
    "exportIntrinsic = False\n",
    "exportRobotPose = False\n",
    "estimateExtrinsic = False"
   ]
  },
  {
   "cell_type": "code",
   "execution_count": null,
   "metadata": {},
   "outputs": [],
   "source": [
    "if exportIntrinsic:\n",
    "    intrinsic_matrix, distortion_coefficients = export_intrinsic_calib(dir = dir)\n",
    "else:\n",
    "    intrinsic_matrix, distortion_coefficients = import_intrinsic_calib(dir = dir)"
   ]
  },
  {
   "cell_type": "code",
   "execution_count": null,
   "metadata": {},
   "outputs": [],
   "source": [
    "from src.mkv_parser import AzureKinectMKVParser\n",
    "\n",
    "parser = AzureKinectMKVParser(dir=dir)\n",
    "parser.export_frames()\n",
    "# parser.overwriteIntrinsic()\n",
    "\n",
    "# if exportFrames:\n",
    "#     parseMKV(dir = dir, exportDepth = False, debug = debug)"
   ]
  },
  {
   "cell_type": "code",
   "execution_count": null,
   "metadata": {},
   "outputs": [],
   "source": [
    "if exportRobotPose:\n",
    "    from src.abb_parser import T_ROBParser\n",
    "\n",
    "    parser = T_ROBParser(\n",
    "        dir=dir,\n",
    "        parsing_method='robtarget') # or 'MoveL'\n",
    "    pos, rotvec, _, _, _ = parser.base_T_tcp()\n",
    "else:\n",
    "    file_path = os.path.join(dir, \"base_T_tcp.json\")\n",
    "    data = readJSON(file_path)\n",
    "\n",
    "    pos = data.get('pos')\n",
    "    rotvec = data.get('rotvec')"
   ]
  },
  {
   "cell_type": "code",
   "execution_count": null,
   "metadata": {},
   "outputs": [],
   "source": [
    "if estimateExtrinsic:\n",
    "    from src.camera_calibration import CameraCalibration\n",
    "\n",
    "    calib = CameraCalibration(\n",
    "        dir = dir,\n",
    "        folder_name='ir',\n",
    "        intrinsic_matrix=intrinsic_matrix,\n",
    "        distortion_coefficients=distortion_coefficients,\n",
    "        checkerboard_shape=(24,17),\n",
    "        checkerboard_size=30.0,\n",
    "        save_dir = out_dir,\n",
    "        debug=debug,\n",
    "        )\n",
    "    calib.calibrate()"
   ]
  }
 ],
 "metadata": {
  "interpreter": {
   "hash": "affac053bf83244b8029a0c18ce67c977e58ec37167172768ee8e4194768d7aa"
  },
  "kernelspec": {
   "display_name": "Python 3.8.12 64-bit ('azure': conda)",
   "name": "python3"
  },
  "language_info": {
   "codemirror_mode": {
    "name": "ipython",
    "version": 3
   },
   "file_extension": ".py",
   "mimetype": "text/x-python",
   "name": "python",
   "nbconvert_exporter": "python",
   "pygments_lexer": "ipython3",
   "version": "3.8.13"
  },
  "orig_nbformat": 4
 },
 "nbformat": 4,
 "nbformat_minor": 2
}
