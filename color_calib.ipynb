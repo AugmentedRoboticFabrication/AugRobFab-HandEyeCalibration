{
 "cells": [
  {
   "cell_type": "code",
   "execution_count": 1,
   "metadata": {},
   "outputs": [],
   "source": [
    "import os, cv2, copy\n",
    "import numpy as np\n",
    "from src.util import parseMKV, exportCalib, tcp2base, target2cam_color, composeH\n",
    "from visualizer import CameraPoseVisualizer\n",
    "from scipy.spatial.transform import Rotation\n",
    "\n",
    "os.chdir(globals()['_dh'][0])"
   ]
  },
  {
   "cell_type": "code",
   "execution_count": 2,
   "metadata": {},
   "outputs": [],
   "source": [
    "root = globals()['_dh'][0]\n",
    "dir = \"test\"\n",
    "\n",
    "out_dir = \"calib\"\n",
    "\n",
    "debug = True\n",
    "\n",
    "exportFrames = False\n",
    "exportCalibration = False\n",
    "exportRobotPose = True\n",
    "exportPoseEstimation = False"
   ]
  },
  {
   "cell_type": "code",
   "execution_count": 3,
   "metadata": {},
   "outputs": [
    {
     "name": "stdout",
     "output_type": "stream",
     "text": [
      "tcp_T_cam:\n",
      "[[1. 0. 0. 0.]\n",
      " [0. 1. 0. 0.]\n",
      " [0. 0. 1. 0.]\n",
      " [0. 0. 0. 1.]]\n",
      "----------------\n"
     ]
    },
    {
     "data": {
      "text/plain": [
       "'d:\\\\GitHub\\\\AugRobFab-HandEyeCalibration\\\\test\\\\irnfov.mod'"
      ]
     },
     "execution_count": 3,
     "metadata": {},
     "output_type": "execute_result"
    }
   ],
   "source": [
    "from src.abb_parser import T_ROBParser\n",
    "\n",
    "parser = T_ROBParser(folder_name=dir, root=root)#, cam2tcp=\"calib/cam2tcp_tsai_ir.npy\")\n",
    "# t_tcp2base, rVec_tcp2base, rMat_tcp2base, q_tcp2base = tcp2base(dir = dir)\n",
    "\n",
    "parser.test()"
   ]
  },
  {
   "cell_type": "code",
   "execution_count": 4,
   "metadata": {},
   "outputs": [],
   "source": [
    "# # if exportCalibration:\n",
    "# #     mtx, dist = exportCalib(dir = dir, debug = debug)\n",
    "# # else:\n",
    "# #     data = np.load(\"%s/calibration.npz\" % dir)\n",
    "    \n",
    "# #     mtx = data[\"mtx\"]\n",
    "# #     dist = data[\"dist\"]\n",
    "\n",
    "# # if exportFrames:\n",
    "# #     parseMKV(dir = dir, exportDepth = False, debug = debug)\n",
    "\n",
    "# if exportRobotPose:\n",
    "    \n",
    "# else:\n",
    "#     data = np.load(\"%s/tcp2base.npz\" % dir)\n",
    "\n",
    "#     t_tcp2base = data[\"t\"]\n",
    "#     rVec_tcp2base = data[\"rVec\"]\n",
    "#     rMat_tcp2base = data[\"rMat\"]\n",
    "#     q_tcp2base = data[\"q\"]\n",
    "# if exportPoseEstimation:\n",
    "#     rVec_target2cam, rMat_target2cam, t_target2cam, failedIdx = target2cam_color(dir = dir, mtx = mtx, dist = dist,\n",
    "#                                                                 rx=copy.deepcopy(rVec_tcp2base),\n",
    "#                                                                 tx=copy.deepcopy(t_tcp2base), \n",
    "#                                                                 boardDim = 30.45, boardSize = (24,17), debug = debug)\n",
    "# else:\n",
    "#     data = np.load(\"%s/target2cam.npz\" % dir)\n",
    "    \n",
    "#     t_target2cam = data[\"t\"]\n",
    "#     rVec_target2cam = data[\"rVec\"]\n",
    "#     rMat_target2cam = data[\"rMat\"]\n",
    "\n",
    "#     failedIdx = data[\"failedIdx\"]"
   ]
  },
  {
   "cell_type": "code",
   "execution_count": 5,
   "metadata": {},
   "outputs": [],
   "source": [
    "# handEyeMethod = 4\n",
    "\n",
    "# methods = [cv2.CALIB_HAND_EYE_TSAI, cv2.CALIB_HAND_EYE_PARK, cv2.CALIB_HAND_EYE_HORAUD, cv2.CALIB_HAND_EYE_ANDREFF, cv2.CALIB_HAND_EYE_DANIILIDIS]\n",
    "# methods_s = [\"tsai\", \"park\", \"horaud\", \"andreff\", \"daniilidis\"]\n",
    "\n",
    "# R_tcp2base = rVec_tcp2base\n",
    "# R_target2cam = rVec_target2cam\n",
    "\n",
    "# R_tcp2base = np.delete(R_tcp2base, failedIdx, 0)\n",
    "# t_tcp2base = np.delete(t_tcp2base, failedIdx, 0)\n",
    "\n",
    "# R_results = []\n",
    "# t_results = []\n",
    "\n",
    "# for i in range(len(methods)):\n",
    "#     R_cam2tcp, t_cam2tcp = cv2.calibrateHandEye(R_tcp2base, t_tcp2base, R_target2cam, t_target2cam, method=methods[i])\n",
    "#     R_results.append(R_cam2tcp)\n",
    "#     t_results.append(t_cam2tcp)\n",
    "#     # output results\n",
    "#     print(\"--------------------------------------\")\n",
    "#     print(\"Method %s\" % methods_s[i])\n",
    "#     print(\"Rotation:\\n\", R_cam2tcp)\n",
    "#     print(\"Translation:\\n\", t_cam2tcp.ravel())\n",
    "#     print(\"Saving Method: %s...\" % methods_s[i], end=\"\")\n",
    "#     np.save(\"%s/cam2tcp_%s_color\" % (out_dir, methods_s[i]), composeH(R_results[i], t_results[i]))\n",
    "#     print(\"Done!\")\n",
    "# print(\"--------------------------------------\")\n",
    "# print(\"Saving All Methods...\", end=\"\")\n",
    "# np.savez(\"%s/_cam2tcp_color\" % out_dir, tsai=composeH(R_results[0], t_results[0]),\n",
    "#                                        park=composeH(R_results[1], t_results[1]),\n",
    "#                                        horaud=composeH(R_results[2], t_results[2]),\n",
    "#                                        andreff=composeH(R_results[3], t_results[3]),\n",
    "#                                        daniilidis=composeH(R_results[4], t_results[4]))\n",
    "# print(\"Done!\")"
   ]
  },
  {
   "cell_type": "code",
   "execution_count": 6,
   "metadata": {},
   "outputs": [],
   "source": [
    "# %matplotlib widget\n",
    "\n",
    "# visualizer = CameraPoseVisualizer([0, 1500], [-500, 500], [0, 1500])\n",
    "\n",
    "# cam2base = []\n",
    "\n",
    "# M_cam2tcp = composeH(R_results[handEyeMethod], t_results[handEyeMethod])\n",
    "# for i in range(len(t_tcp2base)):\n",
    "#     M_tcp2base = composeH(rMat_tcp2base[i], t_tcp2base[i])\n",
    "#     M_cam2base = np.matmul(M_tcp2base,M_cam2tcp)\n",
    "\n",
    "#     cam2base.append(M_cam2base)\n",
    "\n",
    "#     visualizer.extrinsic2pyramid(M_tcp2base, 'r', 100)\n",
    "#     visualizer.extrinsic2pyramid(M_cam2base, 'b', 100)\n",
    "# visualizer.show()\n",
    "\n",
    "# np.savez(\"%s/%s\" % (dir, \"cam2base\"), cam2base)"
   ]
  }
 ],
 "metadata": {
  "interpreter": {
   "hash": "affac053bf83244b8029a0c18ce67c977e58ec37167172768ee8e4194768d7aa"
  },
  "kernelspec": {
   "display_name": "Python 3.8.12 64-bit ('azure': conda)",
   "name": "python3"
  },
  "language_info": {
   "codemirror_mode": {
    "name": "ipython",
    "version": 3
   },
   "file_extension": ".py",
   "mimetype": "text/x-python",
   "name": "python",
   "nbconvert_exporter": "python",
   "pygments_lexer": "ipython3",
   "version": "3.8.13"
  },
  "orig_nbformat": 4
 },
 "nbformat": 4,
 "nbformat_minor": 2
}
